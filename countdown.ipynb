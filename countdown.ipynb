{
 "cells": [
  {
   "cell_type": "markdown",
   "id": "c1c3bd8e",
   "metadata": {},
   "source": [
    "# Overview Of The Countdown Numbers Game\n",
    "\n",
    "****"
   ]
  },
  {
   "cell_type": "markdown",
   "id": "7352904a",
   "metadata": {},
   "source": [
    "The Countdown Numbers Game is a popular arithmetical puzzle which has been played as a two-player game on French\n",
    "and British television weekly for decades.\n",
    "\n",
    "The contestant decides how many large numbers are to be used, from none to all four, after which the six tiles are randomly drawn and placed on the board. A random three-digit target number is then generated. The contestants have 30 seconds to work out a sequence of calculations with the numbers whose final result is as close to the target number as possible. They may use only the four basic operations of addition, subtraction, multiplication and division, and do not have to use all six numbers and a number may not be used more times than it appears on the board.\n",
    "\n",
    "<h5>An Example of the Countdown Numbers Game</h5>\n",
    "\n",
    "There are six numbers are generated at random:\n",
    "\n",
    "| 100 | 9 | 2 | 75 | 10 | 5 |\n",
    "\n",
    "The target is then generated and is:\n",
    "\n",
    "843\n",
    "\n",
    "The contestant answers 845 (2 away), the calculation proceeded as follows:\n",
    "\n",
    "- 10 + 9 = 19\n",
    "- 75 x 2 = 150\n",
    "- 150 + 19 = 169\n",
    "- 169 x 5 = 845"
   ]
  },
  {
   "cell_type": "code",
   "execution_count": null,
   "id": "75b8f3ec",
   "metadata": {},
   "outputs": [],
   "source": []
  },
  {
   "cell_type": "markdown",
   "id": "9d7e16d1",
   "metadata": {},
   "source": [
    "# Discussing The Complexity Of The Countdown Numbers Game\n",
    "\n",
    "****"
   ]
  },
  {
   "cell_type": "markdown",
   "id": "f0f6a7d1",
   "metadata": {},
   "source": []
  },
  {
   "cell_type": "code",
   "execution_count": null,
   "id": "76d1c9e7",
   "metadata": {},
   "outputs": [],
   "source": []
  },
  {
   "cell_type": "markdown",
   "id": "8919071a",
   "metadata": {},
   "source": [
    "# Solving A Countdown Numbers Game\n",
    "\n",
    "****"
   ]
  },
  {
   "cell_type": "markdown",
   "id": "a5d0bc25",
   "metadata": {},
   "source": []
  },
  {
   "cell_type": "code",
   "execution_count": null,
   "id": "aae7514b",
   "metadata": {},
   "outputs": [],
   "source": []
  },
  {
   "cell_type": "markdown",
   "id": "27f9de09",
   "metadata": {},
   "source": [
    "# Explaining Functional Aspects Of Code\n",
    "\n",
    "****"
   ]
  },
  {
   "cell_type": "markdown",
   "id": "43e27622",
   "metadata": {},
   "source": []
  },
  {
   "cell_type": "code",
   "execution_count": null,
   "id": "e7422dce",
   "metadata": {},
   "outputs": [],
   "source": []
  }
 ],
 "metadata": {
  "kernelspec": {
   "display_name": "Python 3 (ipykernel)",
   "language": "python",
   "name": "python3"
  },
  "language_info": {
   "codemirror_mode": {
    "name": "ipython",
    "version": 3
   },
   "file_extension": ".py",
   "mimetype": "text/x-python",
   "name": "python",
   "nbconvert_exporter": "python",
   "pygments_lexer": "ipython3",
   "version": "3.8.12"
  }
 },
 "nbformat": 4,
 "nbformat_minor": 5
}
