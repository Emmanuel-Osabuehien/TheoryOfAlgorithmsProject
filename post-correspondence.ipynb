{
 "cells": [
  {
   "cell_type": "markdown",
   "id": "4fc18c68",
   "metadata": {},
   "source": [
    "# The Post Correspondence Problem\n",
    "\n",
    "****"
   ]
  },
  {
   "cell_type": "markdown",
   "id": "99ad5530",
   "metadata": {},
   "source": [
    "Post Correspondence Problem is an undecidable problem that was introduced by Emil Leon Post in 1946. It is simpler than Halting Problem and the Entscheidungsproblem and is often used in proofs of undecidability.\n",
    "\n",
    "<h5>A Definition of the Problem</h5>\n",
    "\n",
    "∑ is the alphabet with at least two symbols (M and N), the input of each symbol containing of two finite lists of non-empty strings over the alphabet.\n",
    "\n",
    "M = (x1, x2, x3,………, xn)\n",
    "\n",
    "N = (y1, y2, y3,………, yn)\n",
    "\n",
    "One solution to this very problem is a series of indices i1,i2,………… ik, where 1 ≤ ij ≤ n, the condition xi1 …….xik = yi1 …….yik satisfies.\n",
    "\n",
    "The decision problem then is to decide whether such a solution exists or not.\n",
    "\n",
    "<h5>An Example of the Problem</h5>\n",
    "\n",
    "Let's say we have a select number of marbles and we need to arrange the marbles in a certain order that the string made by Numerators is same as the string made by Denominators. In laymans terms, we have two lists containing a select number of characters and the goal is to find the concatenation of the characters in a particular series so both lists produce the same result.\n",
    "\n",
    "<h5>Undecidability of Post Correspondence Problem</h5>\n",
    "\n",
    "Previously we mentioned how the Post Correspondence Problem is an undecidable problem, here is not a specific algorithm that proves that any Post Correspondence Problem will have a solution. We are all aware of the undecidablitiy of the Turing Machine, if we are able to lower the Turing Machine to the Post Correspondence Problem then we can prove that the Post Correspondence Problem is a basic undecidable problem.\n",
    "\n",
    "We already know about undecidablitiy of Turing Machine. If we are able to reduce Turing Machine to PCP then we will prove that PCP is undecidable as well.\n",
    "\n",
    "Lets look at an example of this:\n",
    "\n",
    "Lets assume that the Turing machine (TM) simulaes the Post Correspondence Problem input string (S) can be represented as follows:\n",
    "\n",
    "M = (Q, E, R, O)\n",
    "\n",
    "If a match occurs in the input string, then the Turing Machine will stop in an accepting state, this state is the acceptance problem. Just like the Turing Machine, we know the acceptance problem is undecidable, thus making the Post Correspondence Problem undecidable.\n",
    "\n",
    "The full state of the machine consists of three parts (two changes to our Turing Machine and one change to our Post Correspondence Problem):\n",
    "\n",
    "- The current contents of the tape.\n",
    "- The current state of the finite state machine which operates the tape head.\n",
    "- The current position of the tape head on the tape."
   ]
  },
  {
   "cell_type": "markdown",
   "id": "3a26997e",
   "metadata": {},
   "source": [
    "<br>\n",
    "\n",
    "# The Bounded Post Correspondence Problem\n",
    "\n",
    "****"
   ]
  },
  {
   "cell_type": "markdown",
   "id": "c3590e5b",
   "metadata": {},
   "source": [
    "<h5>What Are Variants?</h5>\n",
    "\n",
    "There are many variants of the Post Correspondence Problem that have been examined, this is due to many reasons, an important reason is when one tries to prove undecidability of some new problem by reducing from the Post Correspondence Problem, typically the first reduction that is found is not from Post Correspondence Problem itself but from a weaker version. \n",
    "\n",
    "<h5>What Is The Bounded Post Correspondence Problem??</h5>\n",
    "\n",
    "One of these variants is the Bounded Post Corresponence Problem, which is one the most important variants of the Post Corresponence Problem.\n",
    "\n",
    "In the Bounded Post Correspondence Problem, if a match is found using more than a select number (k) of tiles, even including repeated tiles, one form of solution to the problem is the use of brute force search which will solve the problem in time of O (2k) but this has been proven difficult to improve on as this is an NP-complete problem. \n",
    "\n",
    "A problem is NP (nondeterministic polynomial) complete if its solution can be guessed and verified in polynomial time, in constrast to most NP-complete problems, a small variation of the Bounded Post Corresponence Problem was shown to be complete for RNP, this means that that it stays hard in the event of inputs chosen randomly as it it hard on average over evenly dispersed inputs."
   ]
  },
  {
   "cell_type": "markdown",
   "id": "593e3138",
   "metadata": {},
   "source": [
    "<br>\n",
    "\n",
    "# Solving The Bounded Post Correspondence Problem\n",
    "\n",
    "****"
   ]
  },
  {
   "cell_type": "code",
   "execution_count": null,
   "id": "d5d055c0",
   "metadata": {},
   "outputs": [],
   "source": []
  },
  {
   "cell_type": "markdown",
   "id": "15ebd224",
   "metadata": {},
   "source": [
    "<br>\n",
    "\n",
    "# What Is An Undecidable Problem Is In Computability Theory\n",
    "\n",
    "****"
   ]
  },
  {
   "cell_type": "markdown",
   "id": "f204030c",
   "metadata": {},
   "source": []
  }
 ],
 "metadata": {
  "kernelspec": {
   "display_name": "Python 3 (ipykernel)",
   "language": "python",
   "name": "python3"
  },
  "language_info": {
   "codemirror_mode": {
    "name": "ipython",
    "version": 3
   },
   "file_extension": ".py",
   "mimetype": "text/x-python",
   "name": "python",
   "nbconvert_exporter": "python",
   "pygments_lexer": "ipython3",
   "version": "3.8.12"
  }
 },
 "nbformat": 4,
 "nbformat_minor": 5
}
